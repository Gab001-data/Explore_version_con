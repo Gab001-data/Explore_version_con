{
 "cells": [
  {
   "cell_type": "markdown",
   "id": "26352062",
   "metadata": {},
   "source": [
    "### Readme\n",
    "\n",
    "This document contains contents used in the illustration of version control for files and projects using git and github repositories."
   ]
  },
  {
   "cell_type": "code",
   "execution_count": null,
   "id": "0be0898b",
   "metadata": {},
   "outputs": [],
   "source": []
  }
 ],
 "metadata": {
  "kernelspec": {
   "display_name": "Python 3 (ipykernel)",
   "language": "python",
   "name": "python3"
  },
  "language_info": {
   "codemirror_mode": {
    "name": "ipython",
    "version": 3
   },
   "file_extension": ".py",
   "mimetype": "text/x-python",
   "name": "python",
   "nbconvert_exporter": "python",
   "pygments_lexer": "ipython3",
   "version": "3.11.5"
  }
 },
 "nbformat": 4,
 "nbformat_minor": 5
}
